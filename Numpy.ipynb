{
 "cells": [
  {
   "cell_type": "markdown",
   "id": "38669150",
   "metadata": {},
   "source": [
    "# Numpy"
   ]
  },
  {
   "cell_type": "code",
   "execution_count": 1,
   "id": "471524a6",
   "metadata": {},
   "outputs": [],
   "source": [
    "import numpy as np"
   ]
  },
  {
   "cell_type": "code",
   "execution_count": 3,
   "id": "48bca06a",
   "metadata": {},
   "outputs": [
    {
     "name": "stdout",
     "output_type": "stream",
     "text": [
      "['Sachin', 'Sagar']\n"
     ]
    }
   ],
   "source": [
    "a=[\"Sachin\",\"Sagar\"]\n",
    "print(a)"
   ]
  },
  {
   "cell_type": "code",
   "execution_count": 4,
   "id": "e9cabfc4",
   "metadata": {},
   "outputs": [
    {
     "name": "stdout",
     "output_type": "stream",
     "text": [
      "[20 30 40 50]\n"
     ]
    }
   ],
   "source": [
    "a=np.array([20,30,40,50])\n",
    "print(a)"
   ]
  },
  {
   "cell_type": "code",
   "execution_count": 5,
   "id": "f99db27f",
   "metadata": {},
   "outputs": [
    {
     "name": "stdout",
     "output_type": "stream",
     "text": [
      "<class 'numpy.ndarray'>\n"
     ]
    }
   ],
   "source": [
    "print(type(a))"
   ]
  },
  {
   "cell_type": "code",
   "execution_count": 6,
   "id": "2217a1f5",
   "metadata": {},
   "outputs": [
    {
     "name": "stdout",
     "output_type": "stream",
     "text": [
      "int32\n"
     ]
    }
   ],
   "source": [
    "print(a.dtype)"
   ]
  },
  {
   "cell_type": "code",
   "execution_count": 7,
   "id": "58fe6680",
   "metadata": {},
   "outputs": [
    {
     "name": "stdout",
     "output_type": "stream",
     "text": [
      "['2' '5' '3' '2' '1']\n",
      "<U11\n"
     ]
    }
   ],
   "source": [
    "a1=np.array([\"2\",5,3,2,1])\n",
    "print(a1)\n",
    "print(a1.dtype)"
   ]
  },
  {
   "cell_type": "code",
   "execution_count": 8,
   "id": "0d405c85",
   "metadata": {},
   "outputs": [
    {
     "name": "stdout",
     "output_type": "stream",
     "text": [
      "[2.3 2.  4.  5. ]\n",
      "float64\n"
     ]
    }
   ],
   "source": [
    "a2=np.array([2.3,2,4,5])\n",
    "print(a2)\n",
    "print(a2.dtype)"
   ]
  },
  {
   "cell_type": "markdown",
   "id": "be30c5bc",
   "metadata": {},
   "source": [
    "### Working with array dim"
   ]
  },
  {
   "cell_type": "code",
   "execution_count": 9,
   "id": "cdeca2d5",
   "metadata": {},
   "outputs": [
    {
     "name": "stdout",
     "output_type": "stream",
     "text": [
      "1\n"
     ]
    }
   ],
   "source": [
    "a=np.array([2,5,8,20])\n",
    "print(a.ndim)"
   ]
  },
  {
   "cell_type": "code",
   "execution_count": 10,
   "id": "ff03bf36",
   "metadata": {},
   "outputs": [
    {
     "name": "stdout",
     "output_type": "stream",
     "text": [
      "0\n"
     ]
    }
   ],
   "source": [
    "# 0 dim\n",
    "a2=np.array(20)\n",
    "print(a2.ndim)"
   ]
  },
  {
   "cell_type": "code",
   "execution_count": 11,
   "id": "3e9a907a",
   "metadata": {},
   "outputs": [
    {
     "name": "stdout",
     "output_type": "stream",
     "text": [
      "2\n"
     ]
    }
   ],
   "source": [
    "a3=np.array([[20,15,11]])\n",
    "print(a3.ndim)"
   ]
  },
  {
   "cell_type": "code",
   "execution_count": 12,
   "id": "65b035e6",
   "metadata": {},
   "outputs": [],
   "source": [
    "a4=np.array([[20,15,13],[15,10,25]])"
   ]
  },
  {
   "cell_type": "code",
   "execution_count": 13,
   "id": "b8bd3a46",
   "metadata": {},
   "outputs": [
    {
     "name": "stdout",
     "output_type": "stream",
     "text": [
      "2\n"
     ]
    }
   ],
   "source": [
    "print(a4.ndim)"
   ]
  },
  {
   "cell_type": "markdown",
   "id": "38e955f9",
   "metadata": {},
   "source": [
    "## 3D data"
   ]
  },
  {
   "cell_type": "code",
   "execution_count": 15,
   "id": "e0ead0a7",
   "metadata": {},
   "outputs": [
    {
     "name": "stdout",
     "output_type": "stream",
     "text": [
      "3\n",
      "(2, 1, 4)\n"
     ]
    }
   ],
   "source": [
    "a5=np.array([[[2,3,4,5]],[[2,3,4,5]]])\n",
    "print(a5.ndim)\n",
    "print(a5.shape)"
   ]
  },
  {
   "cell_type": "code",
   "execution_count": 16,
   "id": "6ce5a4b5",
   "metadata": {},
   "outputs": [
    {
     "name": "stdout",
     "output_type": "stream",
     "text": [
      "[[[2 3 4 5]]\n",
      "\n",
      " [[2 3 4 5]]]\n"
     ]
    }
   ],
   "source": [
    "print(a5)"
   ]
  },
  {
   "cell_type": "code",
   "execution_count": 17,
   "id": "a9255620",
   "metadata": {},
   "outputs": [
    {
     "name": "stdout",
     "output_type": "stream",
     "text": [
      "[[[ 2  3  4  5]\n",
      "  [ 2  3  4  5]]\n",
      "\n",
      " [[21 31 41 51]\n",
      "  [12 13 14 15]]]\n"
     ]
    }
   ],
   "source": [
    "a6=np.array([[[2,3,4,5],[2,3,4,5]],[[21,31,41,51],[12,13,14,15]]])\n",
    "print(a6)"
   ]
  },
  {
   "cell_type": "code",
   "execution_count": 18,
   "id": "fb0c74a8",
   "metadata": {},
   "outputs": [
    {
     "name": "stdout",
     "output_type": "stream",
     "text": [
      "3\n"
     ]
    }
   ],
   "source": [
    "print(a6.ndim)"
   ]
  },
  {
   "cell_type": "code",
   "execution_count": 19,
   "id": "da286413",
   "metadata": {},
   "outputs": [
    {
     "name": "stdout",
     "output_type": "stream",
     "text": [
      "(2, 2, 4)\n"
     ]
    }
   ],
   "source": [
    "print(a6.shape) #shape of data"
   ]
  },
  {
   "cell_type": "code",
   "execution_count": 21,
   "id": "6f3059eb",
   "metadata": {},
   "outputs": [
    {
     "name": "stdout",
     "output_type": "stream",
     "text": [
      "[[2 4 5 6]\n",
      " [9 5 6 4]\n",
      " [9 9 9 9]\n",
      " [5 7 8 3]\n",
      " [0 1 0 1]]\n"
     ]
    }
   ],
   "source": [
    "a7=np.array([[2,4,5,6],[9,5,6,4],[9,9,9,9],[5,7,8,3],[0,1,0,1]])\n",
    "print(a7)"
   ]
  },
  {
   "cell_type": "code",
   "execution_count": 30,
   "id": "d4e7564a",
   "metadata": {},
   "outputs": [
    {
     "name": "stdout",
     "output_type": "stream",
     "text": [
      "2\n"
     ]
    }
   ],
   "source": [
    "print(a7.ndim)"
   ]
  },
  {
   "cell_type": "code",
   "execution_count": 31,
   "id": "cca5496d",
   "metadata": {},
   "outputs": [
    {
     "name": "stdout",
     "output_type": "stream",
     "text": [
      "(5, 4)\n"
     ]
    }
   ],
   "source": [
    "print(a7.shape)"
   ]
  },
  {
   "cell_type": "markdown",
   "id": "f5af368a",
   "metadata": {},
   "source": [
    "## working with slicing"
   ]
  },
  {
   "cell_type": "code",
   "execution_count": 33,
   "id": "3a604976",
   "metadata": {},
   "outputs": [
    {
     "data": {
      "text/plain": [
       "array([[9, 9, 9, 9],\n",
       "       [5, 7, 8, 3]])"
      ]
     },
     "execution_count": 33,
     "metadata": {},
     "output_type": "execute_result"
    }
   ],
   "source": [
    "a7[2:4,:]"
   ]
  },
  {
   "cell_type": "code",
   "execution_count": 34,
   "id": "908075ee",
   "metadata": {},
   "outputs": [
    {
     "data": {
      "text/plain": [
       "array([[9, 9],\n",
       "       [5, 7]])"
      ]
     },
     "execution_count": 34,
     "metadata": {},
     "output_type": "execute_result"
    }
   ],
   "source": [
    "a7[2:4,:2]"
   ]
  },
  {
   "cell_type": "code",
   "execution_count": 35,
   "id": "9caa2ca5",
   "metadata": {},
   "outputs": [],
   "source": [
    "a8=np.array([[[[2,5,5,8],[8,7,10,12],[0,0,0,0],[5,1,7,55]],[[0,0,0,0],[1,1,1,1],[2,2,2,2],[3,3,3,3]]]])"
   ]
  },
  {
   "cell_type": "code",
   "execution_count": 36,
   "id": "f01983b1",
   "metadata": {},
   "outputs": [
    {
     "data": {
      "text/plain": [
       "array([[[[ 2,  5,  5,  8],\n",
       "         [ 8,  7, 10, 12],\n",
       "         [ 0,  0,  0,  0],\n",
       "         [ 5,  1,  7, 55]],\n",
       "\n",
       "        [[ 0,  0,  0,  0],\n",
       "         [ 1,  1,  1,  1],\n",
       "         [ 2,  2,  2,  2],\n",
       "         [ 3,  3,  3,  3]]]])"
      ]
     },
     "execution_count": 36,
     "metadata": {},
     "output_type": "execute_result"
    }
   ],
   "source": [
    "a8"
   ]
  },
  {
   "cell_type": "code",
   "execution_count": 37,
   "id": "59cc7f01",
   "metadata": {},
   "outputs": [
    {
     "name": "stdout",
     "output_type": "stream",
     "text": [
      "(1, 2, 4, 4)\n"
     ]
    }
   ],
   "source": [
    "print(a8.shape)"
   ]
  },
  {
   "cell_type": "code",
   "execution_count": 38,
   "id": "01d1f6e5",
   "metadata": {},
   "outputs": [
    {
     "data": {
      "text/plain": [
       "0"
      ]
     },
     "execution_count": 38,
     "metadata": {},
     "output_type": "execute_result"
    }
   ],
   "source": [
    "a8[0,1,0,3]"
   ]
  },
  {
   "cell_type": "code",
   "execution_count": 39,
   "id": "8bf91afe",
   "metadata": {},
   "outputs": [
    {
     "data": {
      "text/plain": [
       "55"
      ]
     },
     "execution_count": 39,
     "metadata": {},
     "output_type": "execute_result"
    }
   ],
   "source": [
    "a8[0,0,3,3]"
   ]
  },
  {
   "cell_type": "code",
   "execution_count": null,
   "id": "1841b635",
   "metadata": {},
   "outputs": [],
   "source": []
  }
 ],
 "metadata": {
  "kernelspec": {
   "display_name": "Python 3 (ipykernel)",
   "language": "python",
   "name": "python3"
  },
  "language_info": {
   "codemirror_mode": {
    "name": "ipython",
    "version": 3
   },
   "file_extension": ".py",
   "mimetype": "text/x-python",
   "name": "python",
   "nbconvert_exporter": "python",
   "pygments_lexer": "ipython3",
   "version": "3.9.7"
  }
 },
 "nbformat": 4,
 "nbformat_minor": 5
}
